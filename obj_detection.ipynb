{
  "nbformat": 4,
  "nbformat_minor": 0,
  "metadata": {
    "colab": {
      "name": "obj_detection.ipynb",
      "provenance": [],
      "collapsed_sections": [
        "wu5IhYC8yoOb"
      ]
    },
    "kernelspec": {
      "name": "python3",
      "display_name": "Python 3"
    }
  },
  "cells": [
    {
      "cell_type": "code",
      "metadata": {
        "id": "3SOkc3NkLBtQ",
        "colab_type": "code",
        "colab": {}
      },
      "source": [
        "!pip install tensorflow==1.15\n",
        "import tensorflow as tf\n",
        "\n",
        "import numpy as np"
      ],
      "execution_count": null,
      "outputs": []
    },
    {
      "cell_type": "markdown",
      "metadata": {
        "id": "2jgJZpFCxUau",
        "colab_type": "text"
      },
      "source": [
        "# MOUNTING THE DRIVE"
      ]
    },
    {
      "cell_type": "code",
      "metadata": {
        "id": "3xHkrYRfxQTf",
        "colab_type": "code",
        "colab": {}
      },
      "source": [
        "from google.colab import drive\n",
        "drive.mount(\"/content/drive\")"
      ],
      "execution_count": null,
      "outputs": []
    },
    {
      "cell_type": "markdown",
      "metadata": {
        "id": "RejCU3fdxbYm",
        "colab_type": "text"
      },
      "source": [
        "# CLONE TF/MODELS\n",
        "And perform related operations"
      ]
    },
    {
      "cell_type": "code",
      "metadata": {
        "id": "R875IZE5bNNe",
        "colab_type": "code",
        "colab": {}
      },
      "source": [
        "!git clone https://github.com/tensorflow/models.git"
      ],
      "execution_count": null,
      "outputs": []
    },
    {
      "cell_type": "code",
      "metadata": {
        "id": "r2FGZ86vyWXn",
        "colab_type": "code",
        "colab": {}
      },
      "source": [
        "%cd /content/models/research\n",
        "!protoc object_detection/protos/*.proto --python_out=.\n",
        "\n",
        "%cd /content/models/research\n",
        "!python setup.py build\n",
        "!python setup.py install\n",
        "\n",
        "%cd /content/models/research/slim/\n",
        "!python setup.py build\n",
        "!python setup.py install\n",
        "\n",
        "%tensorflow_version 1.x\n",
        "%cd /content/models/research/\n",
        "import os\n",
        "pwd = os.getcwd()\n",
        "os.environ['PYTHONPATH'] += f':{pwd}:{pwd}/slim'\n",
        "!python /content/models/research/object_detection/builders/model_builder_test.py"
      ],
      "execution_count": null,
      "outputs": []
    },
    {
      "cell_type": "markdown",
      "metadata": {
        "id": "p-Vp8Fkqye62",
        "colab_type": "text"
      },
      "source": [
        "# PREPARING DIRECTORY STRUCTURE"
      ]
    },
    {
      "cell_type": "code",
      "metadata": {
        "id": "pf2Pr9LIqw87",
        "colab_type": "code",
        "colab": {}
      },
      "source": [
        "%cd /content/models/\n",
        "os.mkdir('workspace')\n",
        "%cd /content/models/workspace/\n",
        "os.mkdir('card_detect')\n",
        "%cd /content/models/workspace/card_detect/\n",
        "os.mkdir('annotations')\n",
        "os.mkdir('pre-trained-model')\n",
        "os.mkdir('training')\n",
        "!mkdir images"
      ],
      "execution_count": null,
      "outputs": []
    },
    {
      "cell_type": "markdown",
      "metadata": {
        "id": "XrP4gCEGxmXb",
        "colab_type": "text"
      },
      "source": [
        "# CLONING THE OBJECT DETECTION REPO FROM GITHUB"
      ]
    },
    {
      "cell_type": "code",
      "metadata": {
        "id": "4Y_96CD_p12k",
        "colab_type": "code",
        "colab": {}
      },
      "source": [
        "%cd /content/\n",
        "!rm -rf obj_detect_tut\n",
        "%cd /content/\n",
        "!git clone https://github.com/thebeyonder001/obj_detect_tut.git"
      ],
      "execution_count": null,
      "outputs": []
    },
    {
      "cell_type": "markdown",
      "metadata": {
        "id": "wu5IhYC8yoOb",
        "colab_type": "text"
      },
      "source": [
        "## IMPORTING IMAGES FROM THE REPO(THE DEFAULT ONES)\n"
      ]
    },
    {
      "cell_type": "code",
      "metadata": {
        "id": "rOXrbrUpuaEm",
        "colab_type": "code",
        "colab": {}
      },
      "source": [
        "%cd /content/models/workspace/card_detect/\n",
        "os.mkdir('images')\n",
        "\n",
        "### IMPORTING IMAGES FROM THE REPO(THE DEFAULT ONES)\n",
        "from distutils.dir_util import copy_tree\n",
        "\n",
        "fromDirectory = \"/content/obj_detect_tut/images\"\n",
        "toDirectory = \"/content/models/workspace/card_detect/images\"\n",
        "\n",
        "copy_tree(fromDirectory, toDirectory)"
      ],
      "execution_count": null,
      "outputs": []
    },
    {
      "cell_type": "markdown",
      "metadata": {
        "id": "_5Vumw_ezMv0",
        "colab_type": "text"
      },
      "source": [
        "### GENERATING THE TFRECORDS FOR THE IMAGE DATA"
      ]
    },
    {
      "cell_type": "code",
      "metadata": {
        "id": "-BypnzT4zLKQ",
        "colab_type": "code",
        "colab": {}
      },
      "source": [
        "%tensorflow_version 1.x\n",
        "%cd /content/models/research/object_detection/\n",
        "!python generate_tfrecord.py --csv_input=/content/models/workspace/card_detect/images/train_labels.csv --image_dir=/content/models/workspace/card_detect/images/train --output_path=/content/models/workspace/card_detect/annotations/train.record\n",
        "!python generate_tfrecord.py --csv_input=/content/models/workspace/card_detect/images/test_labels.csv --image_dir=/content/models/workspace/card_detect/images/test --output_path=/content/models/workspace/card_detect/annotations/test.record"
      ],
      "execution_count": null,
      "outputs": []
    },
    {
      "cell_type": "markdown",
      "metadata": {
        "id": "h1dUtfX8yqLP",
        "colab_type": "text"
      },
      "source": [
        "## IMPORTING IMAGE DATA FROM DRIVE"
      ]
    },
    {
      "cell_type": "code",
      "metadata": {
        "id": "edgbUKjdlsVE",
        "colab_type": "code",
        "colab": {}
      },
      "source": [
        "%cd /content/models/workspace/card_detect/images/\n",
        "!mkdir train\n",
        "!mkdir test"
      ],
      "execution_count": null,
      "outputs": []
    },
    {
      "cell_type": "code",
      "metadata": {
        "id": "FcrXhlw-0idl",
        "colab_type": "code",
        "colab": {}
      },
      "source": [
        "from distutils.dir_util import copy_tree\n",
        "\n",
        "# copy subdirectory example\n",
        "fromDirectory = \"/content/drive/My Drive/GWC_imgs/dataset/test\"\n",
        "toDirectory = \"/content/models/workspace/card_detect/images/test\"\n",
        "\n",
        "copy_tree(fromDirectory, toDirectory)"
      ],
      "execution_count": null,
      "outputs": []
    },
    {
      "cell_type": "code",
      "metadata": {
        "id": "e7mK9dgwl_h_",
        "colab_type": "code",
        "colab": {}
      },
      "source": [
        "from distutils.dir_util import copy_tree\n",
        "\n",
        "# copy subdirectory example\n",
        "fromDirectory = \"/content/drive/My Drive/GWC_imgs/dataset/train\"\n",
        "toDirectory = \"/content/models/workspace/card_detect/images/train\"\n",
        "\n",
        "copy_tree(fromDirectory, toDirectory)"
      ],
      "execution_count": null,
      "outputs": []
    },
    {
      "cell_type": "markdown",
      "metadata": {
        "id": "fxbuby_szULY",
        "colab_type": "text"
      },
      "source": [
        "### LOADING TFRECORDS FROM DRIVE"
      ]
    },
    {
      "cell_type": "code",
      "metadata": {
        "id": "l_26G-UWmoLg",
        "colab_type": "code",
        "colab": {}
      },
      "source": [
        "import shutil\n",
        "\n",
        "original = r'/content/drive/My Drive/GWC_imgs/dataset/test.record'\n",
        "target = r'/content/models/workspace/card_detect/annotations/test.record'\n",
        "\n",
        "shutil.copyfile(original, target)"
      ],
      "execution_count": null,
      "outputs": []
    },
    {
      "cell_type": "code",
      "metadata": {
        "id": "kIaN7RFu2T4n",
        "colab_type": "code",
        "colab": {}
      },
      "source": [
        "original = r'/content/drive/My Drive/GWC_imgs/dataset/train.record'\n",
        "target = r'/content/models/workspace/card_detect/annotations/train.record'\n",
        "\n",
        "shutil.copyfile(original, target)"
      ],
      "execution_count": null,
      "outputs": []
    },
    {
      "cell_type": "code",
      "metadata": {
        "id": "Pl9i4giv2yp_",
        "colab_type": "code",
        "colab": {}
      },
      "source": [
        "from distutils.dir_util import copy_tree\n",
        "\n",
        "# copy subdirectory example\n",
        "fromDirectory = \"/content/obj_detect_tut/training\"\n",
        "toDirectory = \"/content/models/workspace/card_detect/training\"\n",
        "\n",
        "copy_tree(fromDirectory, toDirectory)"
      ],
      "execution_count": null,
      "outputs": []
    },
    {
      "cell_type": "markdown",
      "metadata": {
        "id": "E8cZp8pjzbkD",
        "colab_type": "text"
      },
      "source": [
        "# DOWNLOADING THE SPECIFIC PRE-TRAINED MODEL"
      ]
    },
    {
      "cell_type": "code",
      "metadata": {
        "id": "LQ1Y8x915u5o",
        "colab_type": "code",
        "colab": {}
      },
      "source": [
        "%cd /content/models/research\n",
        "\n",
        "import os\n",
        "import shutil\n",
        "import glob\n",
        "import urllib.request\n",
        "import tarfile\n",
        "MODEL_FILE = 'faster_rcnn_inception_v2_coco_2018_01_28' + '.tar.gz'\n",
        "DOWNLOAD_BASE = 'http://download.tensorflow.org/models/object_detection/'\n",
        "DEST_DIR = '/content/models/workspace/card_detect/pre-trained-model/'\n",
        "\n",
        "if not (os.path.exists(MODEL_FILE)):\n",
        "    #urllib.request.urlretrieve(DOWNLOAD_BASE + MODEL_FILE, MODEL_FILE)\n",
        "    opener = urllib.request.URLopener()\n",
        "    opener.retrieve(DOWNLOAD_BASE + MODEL_FILE,DEST_DIR+MODEL_FILE)\n",
        "\n",
        "# opener = urllib.request.URLopener()\n",
        "# filename,_ = opener.retrieve(url, 'Test.pdf')\n",
        "\n",
        "%cd /content/models/workspace/card_detect/pre-trained-model/\n",
        "tar = tarfile.open(MODEL_FILE)\n",
        "tar.extractall()\n",
        "tar.close()\n",
        "\n",
        "os.remove(MODEL_FILE)\n",
        "#if (os.path.exists(DEST_DIR)):\n",
        "#    shutil.rmtree(DEST_DIR)\n",
        "#os.rename(MODEL, DEST_DIR)"
      ],
      "execution_count": null,
      "outputs": []
    },
    {
      "cell_type": "code",
      "metadata": {
        "id": "GiKk19q3XVbD",
        "colab_type": "code",
        "colab": {}
      },
      "source": [
        "from distutils.dir_util import copy_tree\n",
        "import distutils\n",
        "# copy subdirectory example\n",
        "fromDirectory = \"/content/models/workspace/card_detect/pre-trained-model/\"\n",
        "toDirectory = \"/content/models/workspace/card_detect/\"\n",
        "\n",
        "#copy_tree(fromDirectory, toDirectory)\n",
        "distutils.dir_util._path_created = {}\n",
        "distutils.dir_util.copy_tree(fromDirectory,toDirectory)"
      ],
      "execution_count": null,
      "outputs": []
    },
    {
      "cell_type": "markdown",
      "metadata": {
        "id": "MRdkXcgoz6_X",
        "colab_type": "text"
      },
      "source": [
        "# TRAINING"
      ]
    },
    {
      "cell_type": "markdown",
      "metadata": {
        "id": "Oo0YVkC30Csc",
        "colab_type": "text"
      },
      "source": [
        "## TRAINING"
      ]
    },
    {
      "cell_type": "code",
      "metadata": {
        "id": "W-0A8Tvak9bq",
        "colab_type": "code",
        "colab": {}
      },
      "source": [
        "# src = \"/content/obj_detect_tut/training/faster_rcnn_inception_v2_pets.config\"\n",
        "# des = \"/content/models/workspace/card_detect/training/faster_rcnn_inception_v2_pets.config\"\n",
        "# shutil.copyfile(src,des)\n",
        "\n",
        "# src = \"/content/obj_detect_tut/training/labelmap.pbtxt\"\n",
        "# des = \"/content/models/workspace/card_detect/training/labelmap.pbtxt\"\n",
        "# shutil.copyfile(src,des)\n",
        "\n",
        "original = r'/content/models/research/object_detection/model_main.py'\n",
        "target = r'/content/models/workspace/card_detect/model_main.py'\n",
        "\n",
        "shutil.copyfile(original, target)"
      ],
      "execution_count": null,
      "outputs": []
    },
    {
      "cell_type": "code",
      "metadata": {
        "id": "WaNMnAb-NeOD",
        "colab_type": "code",
        "colab": {}
      },
      "source": [
        "%cd /content/models/workspace/card_detect/\n",
        "!python model_main.py --alsologtostderr --model_dir=training/ --pipeline_config_path=training/faster_rcnn_inception_v2_pets.config"
      ],
      "execution_count": null,
      "outputs": []
    },
    {
      "cell_type": "markdown",
      "metadata": {
        "id": "y9o6QCH10Hhj",
        "colab_type": "text"
      },
      "source": [
        "## EXPORTING INFERENCE GRAPH"
      ]
    },
    {
      "cell_type": "code",
      "metadata": {
        "id": "4JpRVikGL5fL",
        "colab_type": "code",
        "colab": {}
      },
      "source": [
        "%cd /content/models/workspace/card_detect/\n",
        "!rm -rf inference_graph"
      ],
      "execution_count": null,
      "outputs": []
    },
    {
      "cell_type": "code",
      "metadata": {
        "id": "TpsGUk24H43t",
        "colab_type": "code",
        "colab": {}
      },
      "source": [
        "\n",
        "import shutil\n",
        "\n",
        "original = r'/content/models/research/object_detection/export_inference_graph.py'\n",
        "target = r'/content/models/workspace/card_detect/export_inference_graph.py'\n",
        "\n",
        "shutil.copyfile(original, target)"
      ],
      "execution_count": null,
      "outputs": []
    },
    {
      "cell_type": "code",
      "metadata": {
        "id": "eZaLUYkZe-mP",
        "colab_type": "code",
        "colab": {}
      },
      "source": [
        "%cd /content/models/workspace/card_detect\n",
        "!python export_inference_graph.py --input_type image_tensor --pipeline_config_path training/faster_rcnn_inception_v2_pets.config --trained_checkpoint_prefix training/model.ckpt-28383 --output_directory inference_graph\n"
      ],
      "execution_count": null,
      "outputs": []
    },
    {
      "cell_type": "markdown",
      "metadata": {
        "id": "MWK2FiW_0Qf9",
        "colab_type": "text"
      },
      "source": [
        "# TESTING"
      ]
    },
    {
      "cell_type": "code",
      "metadata": {
        "id": "9kKez17S0OQZ",
        "colab_type": "code",
        "colab": {}
      },
      "source": [
        "import os\n",
        "#os.listdir(\"/content/models/workspace/card_detect/images/test\")"
      ],
      "execution_count": null,
      "outputs": []
    },
    {
      "cell_type": "code",
      "metadata": {
        "id": "8Zc159LwgZ7Z",
        "colab_type": "code",
        "colab": {}
      },
      "source": [
        "import shutil\n",
        "\n",
        "original = r'/content/drive/My Drive/GWC_imgs/dataset/test/d63350a3d.jpg'\n",
        "target = r'/content/models/workspace/card_detect/test.jpg'\n",
        "\n",
        "shutil.copyfile(original, target)"
      ],
      "execution_count": null,
      "outputs": []
    },
    {
      "cell_type": "code",
      "metadata": {
        "id": "iKO1l70SLvHW",
        "colab_type": "code",
        "colab": {}
      },
      "source": [
        "%cd /content/models/workspace/card_detect/\n",
        "from google.colab.patches import cv2_imshow\n",
        "import cv2\n",
        "a=cv2.imread(\"test.jpg\")\n",
        "a = cv2.resize(a,(512,512))\n",
        "cv2_imshow(a)"
      ],
      "execution_count": null,
      "outputs": []
    },
    {
      "cell_type": "code",
      "metadata": {
        "id": "sowlMJxIMbfd",
        "colab_type": "code",
        "colab": {}
      },
      "source": [
        "def gwc_test(path,img):\n",
        "  %cd /content/models/research/object_detection/\n",
        "  ######## Image Object Detection Using Tensorflow-trained Classifier #########\n",
        "  #\n",
        "  # Author: Evan Juras\n",
        "  # Date: 1/15/18\n",
        "  # Description: \n",
        "  # This program uses a TensorFlow-trained neural network to perform object detection.\n",
        "  # It loads the classifier and uses it to perform object detection on an image.\n",
        "  # It draws boxes, scores, and labels around the objects of interest in the image.\n",
        "\n",
        "  ## Some of the code is copied from Google's example at\n",
        "  ## https://github.com/tensorflow/models/blob/master/research/object_detection/object_detection_tutorial.ipynb\n",
        "\n",
        "  ## and some is copied from Dat Tran's example at\n",
        "  ## https://github.com/datitran/object_detector_app/blob/master/object_detection_app.py\n",
        "\n",
        "  ## but I changed it to make it more understandable to me.\n",
        "  import sys\n",
        "\n",
        "  # This is needed since the notebook is stored in the object_detection folder.\n",
        "  sys.path.append(\"..\")\n",
        "\n",
        "  # Import utilites\n",
        "  from utils import label_map_util\n",
        "  from utils import visualization_utils as vis_util\n",
        "\n",
        "  # Name of the directory containing the object detection module we're using\n",
        "  MODEL_NAME = 'inference_graph'\n",
        "  #IMAGE_NAME = 'test.jpg'\n",
        "  IMAGE_NAME = img\n",
        "  # Grab path to current working directory\n",
        "  #CWD_PATH = os.getcwd()\n",
        "  CWD_PATH = \"/content/models/workspace/card_detect/\"\n",
        "  # Path to frozen detection graph .pb file, which contains the model that is used\n",
        "  # for object detection.\n",
        "  PATH_TO_CKPT = os.path.join(CWD_PATH,MODEL_NAME,'frozen_inference_graph.pb')\n",
        "\n",
        "  # Path to label map file\n",
        "  PATH_TO_LABELS = os.path.join(CWD_PATH,'training','labelmap.pbtxt')\n",
        "\n",
        "  # Path to image\n",
        "  PATH_TO_IMAGE = path+img#os.path.join(CWD_PATH,IMAGE_NAME)\n",
        "\n",
        "  # Number of classes the object detector can identify\n",
        "  NUM_CLASSES = 6\n",
        "\n",
        "  # Load the label map.\n",
        "  # Label maps map indices to category names, so that when our convolution\n",
        "  # network predicts `5`, we know that this corresponds to `king`.\n",
        "  # Here we use internal utility functions, but anything that returns a\n",
        "  # dictionary mapping integers to appropriate string labels would be fine\n",
        "  label_map = label_map_util.load_labelmap(PATH_TO_LABELS)\n",
        "  categories = label_map_util.convert_label_map_to_categories(label_map, max_num_classes=NUM_CLASSES, use_display_name=True)\n",
        "  category_index = label_map_util.create_category_index(categories)\n",
        "\n",
        "  # Load the Tensorflow model into memory.\n",
        "  detection_graph = tf.Graph()\n",
        "  with detection_graph.as_default():\n",
        "      od_graph_def = tf.GraphDef()\n",
        "      with tf.gfile.GFile(PATH_TO_CKPT, 'rb') as fid:\n",
        "          serialized_graph = fid.read()\n",
        "          od_graph_def.ParseFromString(serialized_graph)\n",
        "          tf.import_graph_def(od_graph_def, name='')\n",
        "\n",
        "      sess = tf.Session(graph=detection_graph)\n",
        "\n",
        "  # Define input and output tensors (i.e. data) for the object detection classifier\n",
        "\n",
        "  # Input tensor is the image\n",
        "  image_tensor = detection_graph.get_tensor_by_name('image_tensor:0')\n",
        "\n",
        "  # Output tensors are the detection boxes, scores, and classes\n",
        "  # Each box represents a part of the image where a particular object was detected\n",
        "  detection_boxes = detection_graph.get_tensor_by_name('detection_boxes:0')\n",
        "  \n",
        "  # Each score represents level of confidence for each of the objects.\n",
        "  # The score is shown on the result image, together with the class label.\n",
        "  detection_scores = detection_graph.get_tensor_by_name('detection_scores:0')\n",
        "  detection_classes = detection_graph.get_tensor_by_name('detection_classes:0')\n",
        "\n",
        "  # Number of objects detected\n",
        "  num_detections = detection_graph.get_tensor_by_name('num_detections:0')\n",
        "\n",
        "  # Load image using OpenCV and\n",
        "  # expand image dimensions to have shape: [1, None, None, 3]\n",
        "  # i.e. a single-column array, where each item in the column has the pixel RGB value\n",
        "  image = cv2.imread(PATH_TO_IMAGE)\n",
        "  image_rgb = cv2.cvtColor(image, cv2.COLOR_BGR2RGB)\n",
        "  image_expanded = np.expand_dims(image_rgb, axis=0)\n",
        "\n",
        "  # Perform the actual detection by running the model with the image as input\n",
        "  (boxes, scores, classes, num) = sess.run(\n",
        "      [detection_boxes, detection_scores, detection_classes, num_detections],\n",
        "      feed_dict={image_tensor: image_expanded})\n",
        "  # Draw the results of the detection (aka 'visulaize the results')\n",
        "\n",
        "  vis_util.visualize_boxes_and_labels_on_image_array(\n",
        "      image,\n",
        "      np.squeeze(boxes),\n",
        "      np.squeeze(classes).astype(np.int32),\n",
        "      np.squeeze(scores),\n",
        "      category_index,\n",
        "      use_normalized_coordinates=True,\n",
        "      line_thickness=8,\n",
        "      min_score_thresh=0.50)\n",
        "\n",
        "  # All the results have been drawn on image. Now display the image.\n",
        "  #image = cv2.resize(image,(512,512))\n",
        "\n",
        "  cv2_imshow(image)\n",
        "\n",
        "  # Press any key to close the image\n",
        "  cv2.waitKey(0)\n",
        "  # sess = tf.Session()\n",
        "  # with sess.as_default():\n",
        "  #     print(detection_boxes.eval())\n",
        "  #a = detection_boxes.numpy()\n",
        "  # Clean up\n",
        "  cv2.destroyAllWindows()\n",
        "  return boxes,scores"
      ],
      "execution_count": null,
      "outputs": []
    },
    {
      "cell_type": "code",
      "metadata": {
        "id": "qjpYfr1WWqzM",
        "colab_type": "code",
        "colab": {}
      },
      "source": [
        "path = \"/content/models/workspace/card_detect/\"\n",
        "img = \"test.jpg\"\n",
        "b,s = gwc_test(path,img)"
      ],
      "execution_count": null,
      "outputs": []
    },
    {
      "cell_type": "code",
      "metadata": {
        "id": "tXEMTZ8gXjVH",
        "colab_type": "code",
        "colab": {}
      },
      "source": [
        "path = \"/content/models/workspace/card_detect/\"\n",
        "img = \"test.jpg\"\n",
        "t,n = gwc_test(path,img)"
      ],
      "execution_count": null,
      "outputs": []
    },
    {
      "cell_type": "markdown",
      "metadata": {
        "id": "KngRRqdAfcKQ",
        "colab_type": "text"
      },
      "source": [
        "## STORING THE TRAINED MODEL FILES IN DRIVE"
      ]
    },
    {
      "cell_type": "code",
      "metadata": {
        "id": "Lldt-bplXR2E",
        "colab_type": "code",
        "colab": {}
      },
      "source": [
        "# step = 24171\n",
        "# src = \"/content/models/workspace/card_detect/training/\"\n",
        "# des = \"/content/drive/My Drive/GWC_imgs/\"\n",
        "# m = \"model.ckpt-\"\n",
        "# i = [\".data-00000-of-00001\",\".index\",\".meta\"]\n",
        "# # shutil.copyfile(src+\"checkpoint\",des+\"checkpint\")\n",
        "# # shutil.copyfile(src+\"graph.pbtxt\",des+\"graph.pbtxt\")\n",
        "# for ex in i:\n",
        "#   shutil.copyfile(src+m+str(step)+ex,des+m+str(step)+ex)"
      ],
      "execution_count": null,
      "outputs": []
    },
    {
      "cell_type": "code",
      "metadata": {
        "id": "RqAGeeWhan15",
        "colab_type": "code",
        "colab": {}
      },
      "source": [
        "src = \"/content/models/workspace/card_detect/inference_graph/\"\n",
        "des = \"/content/drive/My Drive/Trained_models/GWC/\"\n",
        "from distutils import dir_util\n",
        "dir_util.copy_tree(src,des)"
      ],
      "execution_count": null,
      "outputs": []
    },
    {
      "cell_type": "code",
      "metadata": {
        "id": "1yowsDlAbeBV",
        "colab_type": "code",
        "colab": {}
      },
      "source": [
        "import tensorflow as tf\n",
        "%tensorflow_version 1.x"
      ],
      "execution_count": null,
      "outputs": []
    },
    {
      "cell_type": "code",
      "metadata": {
        "id": "VsZNaH4ceT8Q",
        "colab_type": "code",
        "colab": {}
      },
      "source": [
        "import tensorflow.compat.v1 as tf\n",
        "import numpy as np\n",
        "\n",
        "tf.disable_v2_behavior()"
      ],
      "execution_count": null,
      "outputs": []
    },
    {
      "cell_type": "code",
      "metadata": {
        "id": "QPdu1Twxg5L2",
        "colab_type": "code",
        "colab": {}
      },
      "source": [
        "!pip install tensorflow==1.15"
      ],
      "execution_count": null,
      "outputs": []
    },
    {
      "cell_type": "code",
      "metadata": {
        "id": "OkDqRBF_ebwS",
        "colab_type": "code",
        "colab": {}
      },
      "source": [
        ""
      ],
      "execution_count": null,
      "outputs": []
    },
    {
      "cell_type": "markdown",
      "metadata": {
        "id": "N2UBWxhbGNn4",
        "colab_type": "text"
      },
      "source": [
        "# TESTING ON KAGGLE"
      ]
    },
    {
      "cell_type": "code",
      "metadata": {
        "id": "gUe-fPvLGQit",
        "colab_type": "code",
        "colab": {}
      },
      "source": [
        "%cd /content/\n",
        "!mkdir test\n",
        "from shutil import copyfile\n",
        "copyfile(\"/content/test.zip\",\"/content/test/test.zip\")\n",
        "%cd /content/test/\n",
        "!unzip test.zip"
      ],
      "execution_count": null,
      "outputs": []
    },
    {
      "cell_type": "code",
      "metadata": {
        "id": "fJL1VKpYGZYS",
        "colab_type": "code",
        "colab": {}
      },
      "source": [
        "path = \"/content/test/\"\n",
        "lst = []\n",
        "for img in os.listdir(path):\n",
        "  if img!=\"test.zip\":\n",
        "    c = 0\n",
        "    box,scores = gwc_test(path,img)\n",
        "    for score in scores[0]:\n",
        "      d = []\n",
        "      d.append(img.replace(\".jpg\",\"\"))\n",
        "      if score>=0.50:\n",
        "        xmin = int(box[0,c,0]*1024)\n",
        "        ymin = int(box[0,c,1]*1024)\n",
        "        xmax = int(box[0,c,2]*1024)\n",
        "        ymax = int(box[0,c,3]*1024)\n",
        "        d.append(f\"{score} {xmin} {ymin} {xmax} {ymax}\")\n",
        "        lst.append(d)\n",
        "      c = c+1"
      ],
      "execution_count": null,
      "outputs": []
    },
    {
      "cell_type": "code",
      "metadata": {
        "id": "TKO3uCqPZ0DR",
        "colab_type": "code",
        "colab": {}
      },
      "source": [
        "len(lst)"
      ],
      "execution_count": null,
      "outputs": []
    },
    {
      "cell_type": "code",
      "metadata": {
        "id": "-YFG9NaRTiLJ",
        "colab_type": "code",
        "colab": {}
      },
      "source": [
        "import pandas as pd"
      ],
      "execution_count": null,
      "outputs": []
    },
    {
      "cell_type": "code",
      "metadata": {
        "id": "noymNtTTbQNB",
        "colab_type": "code",
        "colab": {}
      },
      "source": [
        "[]"
      ],
      "execution_count": null,
      "outputs": []
    },
    {
      "cell_type": "code",
      "metadata": {
        "id": "eCNyUbcSUzJp",
        "colab_type": "code",
        "colab": {}
      },
      "source": [
        "df = pd.DataFrame(lst,columns = [\"image_id\",\"PredictionString\"])\n",
        "df.head()"
      ],
      "execution_count": null,
      "outputs": []
    },
    {
      "cell_type": "code",
      "metadata": {
        "id": "XziBgZadU3ed",
        "colab_type": "code",
        "colab": {}
      },
      "source": [
        "print(df)"
      ],
      "execution_count": null,
      "outputs": []
    },
    {
      "cell_type": "code",
      "metadata": {
        "id": "0GUDkTC8ffjq",
        "colab_type": "code",
        "colab": {}
      },
      "source": [
        "image  = cv2.imread(\"/content/test/2fd875eaa.jpg\")\n",
        "#image[:,:,0] = 50\n",
        "image[:,:,1] = 150\n",
        "#image[:,:,2] = 200\n",
        "cv2_imshow(image)"
      ],
      "execution_count": null,
      "outputs": []
    },
    {
      "cell_type": "code",
      "metadata": {
        "id": "3GZmKhb1fwRl",
        "colab_type": "code",
        "colab": {}
      },
      "source": [
        "image  = cv2.imread(\"/content/test/2fd875eaa.jpg\")\n",
        "#image[:,:,0] = 50\n",
        "image[:,:,1] = 150\n",
        "image[:,:,2] = 50\n",
        "cv2_imshow(image)"
      ],
      "execution_count": null,
      "outputs": []
    },
    {
      "cell_type": "code",
      "metadata": {
        "id": "DBNorHobgVjQ",
        "colab_type": "code",
        "colab": {}
      },
      "source": [
        "image  = cv2.imread(\"/content/test/2fd875eaa.jpg\")\n",
        "#image[:,:,0] = 50\n",
        "image[:,:,2] = 120\n",
        "image[:,:,1] = 225\n",
        "cv2_imshow(image)"
      ],
      "execution_count": null,
      "outputs": []
    },
    {
      "cell_type": "code",
      "metadata": {
        "id": "mcAVIopXin_2",
        "colab_type": "code",
        "colab": {}
      },
      "source": [
        ""
      ],
      "execution_count": null,
      "outputs": []
    }
  ]
}